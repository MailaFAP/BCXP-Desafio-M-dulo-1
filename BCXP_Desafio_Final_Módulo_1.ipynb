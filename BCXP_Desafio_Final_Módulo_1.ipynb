{
  "nbformat": 4,
  "nbformat_minor": 0,
  "metadata": {
    "colab": {
      "provenance": [],
      "authorship_tag": "ABX9TyMgSz/JYX7gvCTLBztpMRTh",
      "include_colab_link": true
    },
    "kernelspec": {
      "name": "python3",
      "display_name": "Python 3"
    },
    "language_info": {
      "name": "python"
    }
  },
  "cells": [
    {
      "cell_type": "markdown",
      "metadata": {
        "id": "view-in-github",
        "colab_type": "text"
      },
      "source": [
        "<a href=\"https://colab.research.google.com/github/MailaFAP/BCXP-Desafio-M-dulo-1/blob/main/BCXP_Desafio_Final_M%C3%B3dulo_1.ipynb\" target=\"_parent\"><img src=\"https://colab.research.google.com/assets/colab-badge.svg\" alt=\"Open In Colab\"/></a>"
      ]
    },
    {
      "cell_type": "code",
      "execution_count": null,
      "metadata": {
        "colab": {
          "base_uri": "https://localhost:8080/"
        },
        "id": "PWjHUNg0_z2_",
        "outputId": "044d01de-8394-4238-c8fa-b30873bb712b"
      },
      "outputs": [
        {
          "output_type": "stream",
          "name": "stdout",
          "text": [
            "{'Maria': 5, 'Julieta': 7, 'Fernando': 8, 'Cristiano': 9, 'Cláudio': 7}\n"
          ]
        }
      ],
      "source": [
        "# relação dos nomes\n",
        "nomes = ['Maria', 'Julieta', 'Fernando', 'Cristiano', 'Julieta', 'Maria', 'Fernando', 'Cláudio']\n",
        "# estrutura que irá armazenar o número de letras de cada nome\n",
        "qtd_letras = {}\n",
        "# calcula o tamanho de cada nome (em número de letras) e armazena o valor na estrutura\n",
        "for nome in nomes:\n",
        "    qtd_letras[nome] = len(nome)\n",
        "\n",
        "print(qtd_letras)\n"
      ]
    },
    {
      "cell_type": "code",
      "source": [
        "nomes = ['Maria', 'Julieta', 'Fernando', 'Cristiano', 'Julieta', 'Maria', 'Fernando', 'Cláudio']\n",
        "qtd_letras = {nome: len(nome) for nome in nomes}\n",
        "print(qtd_letras)\n",
        "print(len(nomes))\n",
        "print(len(qtd_letras))"
      ],
      "metadata": {
        "colab": {
          "base_uri": "https://localhost:8080/"
        },
        "id": "Tb1Bcl6dBFAL",
        "outputId": "38a05059-f32b-4dfe-8df6-f9aee8a65d85"
      },
      "execution_count": 46,
      "outputs": [
        {
          "output_type": "stream",
          "name": "stdout",
          "text": [
            "{'Maria': 5, 'Julieta': 7, 'Fernando': 8, 'Cristiano': 9, 'Cláudio': 7}\n",
            "8\n",
            "5\n"
          ]
        }
      ]
    },
    {
      "cell_type": "code",
      "source": [
        "#sem declarar automaticamnete o valor de pi\n",
        "def area(r,pi=3.14):\n",
        "    return pi*(r**2)\n",
        "\n",
        "area(8,3.141592)"
      ],
      "metadata": {
        "colab": {
          "base_uri": "https://localhost:8080/"
        },
        "id": "sBHTxgu7D6x6",
        "outputId": "6729553c-2e88-476c-c9d6-713c728b2242"
      },
      "execution_count": 3,
      "outputs": [
        {
          "output_type": "execute_result",
          "data": {
            "text/plain": [
              "201.061888"
            ]
          },
          "metadata": {},
          "execution_count": 3
        }
      ]
    },
    {
      "cell_type": "code",
      "source": [
        "#declarando o valor de pi\n",
        "def area(r,pi=3.14):\n",
        "    return pi*(r**2)\n",
        "\n",
        "area(8)"
      ],
      "metadata": {
        "colab": {
          "base_uri": "https://localhost:8080/"
        },
        "id": "uThnYf2_FlsN",
        "outputId": "ac66dde1-6be4-4235-df29-02d118c167c8"
      },
      "execution_count": 4,
      "outputs": [
        {
          "output_type": "execute_result",
          "data": {
            "text/plain": [
              "200.96"
            ]
          },
          "metadata": {},
          "execution_count": 4
        }
      ]
    },
    {
      "cell_type": "code",
      "source": [
        "area = lambda r,pi: pi* r**2\n",
        "area(8, 3.14)"
      ],
      "metadata": {
        "colab": {
          "base_uri": "https://localhost:8080/"
        },
        "id": "Hg5a9rPcyCDT",
        "outputId": "a42b3627-8be4-4186-9c7b-7b456f904d08"
      },
      "execution_count": null,
      "outputs": [
        {
          "output_type": "execute_result",
          "data": {
            "text/plain": [
              "200.96"
            ]
          },
          "metadata": {},
          "execution_count": 12
        }
      ]
    },
    {
      "cell_type": "code",
      "source": [
        "area = lambda r,pi = 3.141592: pi* r**2\n",
        "area(8)"
      ],
      "metadata": {
        "colab": {
          "base_uri": "https://localhost:8080/"
        },
        "id": "v9XaE5_VzZ7t",
        "outputId": "3e8bfa78-78c2-4895-cd6a-b5d897d5899a"
      },
      "execution_count": null,
      "outputs": [
        {
          "output_type": "execute_result",
          "data": {
            "text/plain": [
              "201.061888"
            ]
          },
          "metadata": {},
          "execution_count": 13
        }
      ]
    },
    {
      "cell_type": "code",
      "source": [
        "# Encontra e retorna o maior número impar presente na lista\n",
        "def maior_impar(lista):\n",
        "    impares = [x for x in lista if x % 2 != 0]\n",
        "    if impares:\n",
        "        return max(impares)\n",
        "    else:\n",
        "        return None\n",
        "\n",
        "lista = [5, 10 , 15 , 83 , 99]\n",
        "print(maior_impar(lista))\n",
        "\n"
      ],
      "metadata": {
        "colab": {
          "base_uri": "https://localhost:8080/"
        },
        "id": "Cb72dloS1XSX",
        "outputId": "911a2800-56d9-4995-bea8-18ef1385e35f"
      },
      "execution_count": 40,
      "outputs": [
        {
          "output_type": "stream",
          "name": "stdout",
          "text": [
            "99\n"
          ]
        }
      ]
    },
    {
      "cell_type": "code",
      "source": [
        "# Encontra e retorna o menor número impar presente na lista\n",
        "def menor_impar(lista):\n",
        "    impares = [x for x in lista if x % 2 != 0]\n",
        "    if impares:\n",
        "        return min(impares)\n",
        "    else:\n",
        "        return None\n",
        "\n",
        "print(menor_impar(lista))"
      ],
      "metadata": {
        "colab": {
          "base_uri": "https://localhost:8080/"
        },
        "id": "GHP_GlfX7TlY",
        "outputId": "8fee6be0-bd71-4a4e-bd38-f08df173e059"
      },
      "execution_count": 41,
      "outputs": [
        {
          "output_type": "stream",
          "name": "stdout",
          "text": [
            "5\n"
          ]
        }
      ]
    },
    {
      "cell_type": "code",
      "source": [
        "# Encontra e retorna o maior e o menor número ímpar presentes na lista\n",
        "def maior_e_menor_impar(lista):\n",
        "    impares = [x for x in lista if x % 2 != 0]\n",
        "    if impares:\n",
        "        return min(impares), max(impares)\n",
        "    else:\n",
        "        return None, None\n",
        "\n",
        "print(maior_e_menor_impar(lista))\n"
      ],
      "metadata": {
        "colab": {
          "base_uri": "https://localhost:8080/"
        },
        "id": "1J0Bxh4A8sx4",
        "outputId": "bf605fb9-95e0-429c-c545-99b479064ba8"
      },
      "execution_count": 43,
      "outputs": [
        {
          "output_type": "stream",
          "name": "stdout",
          "text": [
            "(5, 99)\n"
          ]
        }
      ]
    },
    {
      "cell_type": "markdown",
      "source": [],
      "metadata": {
        "id": "4zJxiKmn8XBq"
      }
    },
    {
      "cell_type": "code",
      "source": [
        "len({1, 3, 1, 4, 3, 2, 2, 0, 4})"
      ],
      "metadata": {
        "colab": {
          "base_uri": "https://localhost:8080/"
        },
        "id": "bnlqAmrOHgy-",
        "outputId": "61a3c911-1842-42fe-84d0-2a47fe675571"
      },
      "execution_count": 44,
      "outputs": [
        {
          "output_type": "execute_result",
          "data": {
            "text/plain": [
              "5"
            ]
          },
          "metadata": {},
          "execution_count": 44
        }
      ]
    },
    {
      "cell_type": "code",
      "source": [
        "[n/2 for n in range(0, 10) if n > 3]"
      ],
      "metadata": {
        "colab": {
          "base_uri": "https://localhost:8080/"
        },
        "id": "Xm75lZT-IPBN",
        "outputId": "d4d2d5ed-2a53-45c3-ab61-69ca4d3a3f9f"
      },
      "execution_count": 47,
      "outputs": [
        {
          "output_type": "execute_result",
          "data": {
            "text/plain": [
              "[2.0, 2.5, 3.0, 3.5, 4.0, 4.5]"
            ]
          },
          "metadata": {},
          "execution_count": 47
        }
      ]
    }
  ]
}